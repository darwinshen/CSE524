{
 "cells": [
  {
   "cell_type": "code",
   "execution_count": 4,
   "metadata": {
    "collapsed": false
   },
   "outputs": [],
   "source": [
    "import glob\n",
    "import pandas as pd\n",
    "import numpy as np\n",
    "from sklearn.metrics import classification_report"
   ]
  },
  {
   "cell_type": "code",
   "execution_count": 5,
   "metadata": {
    "collapsed": true
   },
   "outputs": [],
   "source": [
    "not_wanted = set([\"Greater\", \"Equal\", \"Pre\", \"Post\", \"Extrinsic-Pre\", \"Extrinsic-Post\", \"Assign\", \"Less\", \"OperationName\", \"Comparison\"])"
   ]
  },
  {
   "cell_type": "code",
   "execution_count": 6,
   "metadata": {
    "collapsed": true
   },
   "outputs": [],
   "source": [
    "# This function builds a dictionary with all the words in the ann file as values and indices as their \n",
    "# corresponding variable names\n",
    "\n",
    "def builddict(file):\n",
    "    d = {}\n",
    "    f = open(file, 'r')\n",
    "    lines = f.readlines()\n",
    "    for line in lines:\n",
    "        line = line.strip()\n",
    "        if line.startswith(\"T\"):\n",
    "                line = line.split(\"\\t\")[1:]\n",
    "                entity = line[0].split(\" \")[0]\n",
    "                if entity not in not_wanted:\n",
    "                    _, si, ei = line[0].split(\" \")\n",
    "                    if si not in d:\n",
    "                        d[si] = []\n",
    "                        d[si].append(str(entity)) \n",
    "                        d[si].append(str(line[1]))\n",
    "    return d"
   ]
  },
  {
   "cell_type": "code",
   "execution_count": 7,
   "metadata": {
    "collapsed": true
   },
   "outputs": [],
   "source": [
    "# This function builds a listt of list for a given txt file, with the entries of the inner list being\n",
    "# the words in the txt file and its corresponding tag (var/value)\n",
    "\n",
    "def build_dataframe(file, d):\n",
    "    df = []\n",
    "    with open(file) as f:\n",
    "        cindex = 0\n",
    "        seen = False\n",
    "        end = 0\n",
    "        nonzerocount = 0\n",
    "        temp = f.readlines()\n",
    "        flag = False\n",
    "        \n",
    "        for line in temp:\n",
    "            tempstr = \"\"\n",
    "            \n",
    "            if \"DESCRIPTION\" in line:\n",
    "                flag = True\n",
    "            for i,char in enumerate(line):\n",
    "                i_inner = end+i\n",
    "                if str(cindex) in d or seen and flag:\n",
    "                    seen = True\n",
    "                    tempstr += char\n",
    "                    \n",
    "                    if seen and str(cindex) in d and i_inner == cindex+int(len(d[str(cindex)][1])):\n",
    "                        seen = False\n",
    "                        # add to df\n",
    "                        # check if var or val \n",
    "                        if d[str(cindex)][0] != \"Value\":\n",
    "#                             df.append([tempstr[:-1], d[str(cindex)][0]])\n",
    "                            df.append([tempstr[:-1], \"Variable\"])\n",
    "                        else:\n",
    "                            df.append([tempstr[:-1], d[str(cindex)][0]])\n",
    "                        tempstr = \"\"\n",
    "                        cindex = i_inner\n",
    "                        nonzerocount += 1\n",
    "\n",
    "                else:\n",
    "                    if flag:\n",
    "                        if char == \" \":\n",
    "                            df.append([tempstr, '0'])\n",
    "                            tempstr = \"\"\n",
    "                        else:\n",
    "                            tempstr += char\n",
    "\n",
    "                    cindex = i_inner\n",
    "\n",
    "            end += len(line)\n",
    "    return df,nonzerocount"
   ]
  },
  {
   "cell_type": "code",
   "execution_count": 8,
   "metadata": {
    "collapsed": true,
    "scrolled": true
   },
   "outputs": [],
   "source": [
    "# This cell generates the training data per file and appends to the data list\n",
    "\n",
    "import os\n",
    "from collections import defaultdict\n",
    "\n",
    "EXTENSIONS = {'.ann', '.txt'}\n",
    "\n",
    "directory = 'only ann'\n",
    "\n",
    "grouped_files = defaultdict(int)\n",
    "\n",
    "for f in os.listdir(directory):\n",
    "    name, ext = os.path.splitext(os.path.join(directory, f))\n",
    "    if ext in EXTENSIONS:\n",
    "        grouped_files[name] += 1\n",
    "data = []\n",
    "totalcount = 0\n",
    "tc2 = 0\n",
    "for name in grouped_files:\n",
    "    if grouped_files[name] == len(EXTENSIONS):\n",
    "        filetxt = '{}.txt'.format(name)\n",
    "        fileann = '{}.ann'.format(name)\n",
    "#         print \"*\"*10,filetxt,fileann\n",
    "        d = builddict(fileann)\n",
    "        totalcount += len(d)\n",
    "        df,nzc = build_dataframe(filetxt, d)\n",
    "        tc2 += nzc\n",
    "        data += df"
   ]
  },
  {
   "cell_type": "code",
   "execution_count": 9,
   "metadata": {
    "collapsed": true
   },
   "outputs": [],
   "source": [
    "# Converting the data list to pandas dataframe\n",
    "dataframe = pd.DataFrame(data, columns=['entity', 'tag'])"
   ]
  },
  {
   "cell_type": "code",
   "execution_count": 10,
   "metadata": {
    "collapsed": true
   },
   "outputs": [],
   "source": [
    "# Run this cell to get rid of empty entries\n",
    "dataframe['entity'].replace('', np.nan, inplace=True)\n",
    "dataframe.dropna(inplace=True)"
   ]
  },
  {
   "cell_type": "code",
   "execution_count": 11,
   "metadata": {
    "collapsed": true
   },
   "outputs": [],
   "source": [
    "vvData = dataframe[dataframe['tag']!='0'] "
   ]
  },
  {
   "cell_type": "code",
   "execution_count": 12,
   "metadata": {
    "collapsed": true
   },
   "outputs": [],
   "source": [
    "# Writing train data to file\n",
    "dataframe.to_csv(\"train_data.csv\")"
   ]
  },
  {
   "cell_type": "code",
   "execution_count": 17,
   "metadata": {
    "collapsed": false
   },
   "outputs": [
    {
     "name": "stdout",
     "output_type": "stream",
     "text": [
      "Accuracy of NB classifier on training set: 0.97\n",
      "Accuracy of NB classifier on test set: 0.97\n",
      "\n",
      "              precision    recall  f1-score   support\n",
      "\n",
      "           0       0.97      1.00      0.98      1961\n",
      "       Value       0.00      0.00      0.00        22\n",
      "    Variable       0.80      0.32      0.46        50\n",
      "\n",
      "   micro avg       0.97      0.97      0.97      2033\n",
      "   macro avg       0.59      0.44      0.48      2033\n",
      "weighted avg       0.96      0.97      0.96      2033\n",
      "\n",
      "==================================================================\n",
      "Accuracy of SVM classifier on training set: 0.98\n",
      "Accuracy of SVM classifier on test set: 0.97\n",
      "\n",
      "              precision    recall  f1-score   support\n",
      "\n",
      "           0       0.98      0.99      0.99      1961\n",
      "       Value       0.55      0.27      0.36        22\n",
      "    Variable       0.70      0.42      0.53        50\n",
      "\n",
      "   micro avg       0.97      0.97      0.97      2033\n",
      "   macro avg       0.74      0.56      0.62      2033\n",
      "weighted avg       0.97      0.97      0.97      2033\n",
      "\n",
      "==================================================================\n",
      "Accuracy of Log Reg classifier on training set: 0.97\n",
      "Accuracy of Log Reg classifier on test set: 0.97\n",
      "\n",
      "              precision    recall  f1-score   support\n",
      "\n",
      "           0       0.97      1.00      0.98      1961\n",
      "       Value       0.00      0.00      0.00        22\n",
      "    Variable       0.81      0.26      0.39        50\n",
      "\n",
      "   micro avg       0.97      0.97      0.97      2033\n",
      "   macro avg       0.59      0.42      0.46      2033\n",
      "weighted avg       0.96      0.97      0.96      2033\n",
      "\n",
      "==================================================================\n",
      "Accuracy of Random Forest classifier on training set: 0.96\n",
      "Accuracy of Random Forest classifier on test set: 0.96\n",
      "              precision    recall  f1-score   support\n",
      "\n",
      "           0       0.96      1.00      0.98      1961\n",
      "       Value       0.00      0.00      0.00        22\n",
      "    Variable       0.00      0.00      0.00        50\n",
      "\n",
      "   micro avg       0.96      0.96      0.96      2033\n",
      "   macro avg       0.32      0.33      0.33      2033\n",
      "weighted avg       0.93      0.96      0.95      2033\n",
      "\n",
      "==================================================================\n"
     ]
    }
   ],
   "source": [
    "from sklearn import preprocessing\n",
    "\n",
    "le = preprocessing.LabelEncoder()\n",
    "le.fit([\"Variable\", \"Value\"])\n",
    "\n",
    "vvData.head()\n",
    "#X = vvData['entity']\n",
    "#Y = le.transform(vvData['tag'])\n",
    "#Y = vvData['tag']\n",
    "\n",
    "X = dataframe['entity']\n",
    "Y = dataframe['tag']\n",
    "\n",
    "\n",
    "from sklearn.model_selection import train_test_split\n",
    "\n",
    "X_train, X_test, Y_train, Y_test = train_test_split(X, Y, random_state=0)\n",
    "\n",
    "from sklearn.feature_extraction.text import CountVectorizer\n",
    "from sklearn.feature_extraction.text import TfidfTransformer\n",
    "from sklearn.naive_bayes import MultinomialNB\n",
    "\n",
    "count_vect = CountVectorizer()\n",
    "X_train_counts = count_vect.fit_transform(X_train)\n",
    "tfidf_transformer = TfidfTransformer()\n",
    "X_train_tfidf = tfidf_transformer.fit_transform(X_train_counts)\n",
    "\n",
    "clf = MultinomialNB().fit(X_train_tfidf, Y_train)\n",
    "#print(clf.predict(count_vect.transform([\"current filehandle\"])))\n",
    "\n",
    "# pred = clf.predict(count_vect.transform(X_test))\n",
    "# for p in pred:\n",
    "#     if p != pred[0]:\n",
    "#         print(p)\n",
    "\n",
    "\n",
    "print('Accuracy of NB classifier on training set: {:.2f}'\n",
    "     .format(clf.score(X_train_tfidf, Y_train)))\n",
    "print('Accuracy of NB classifier on test set: {:.2f}\\n'\n",
    "     .format(clf.score(count_vect.transform(X_test), Y_test)))\n",
    "\n",
    "pred = clf.predict(count_vect.transform(X_test))\n",
    "print(classification_report(Y_test, pred, target_names=['0','Value','Variable']))\n",
    "\n",
    "print(\"==================================================================\")\n",
    "\n",
    "from sklearn.linear_model import LogisticRegression\n",
    "from sklearn.ensemble import RandomForestClassifier\n",
    "from sklearn.svm import LinearSVC\n",
    "\n",
    "\n",
    "LSVC = LinearSVC()\n",
    "LSVC.fit(X_train_tfidf, Y_train)\n",
    "\n",
    "print('Accuracy of SVM classifier on training set: {:.2f}'\n",
    "     .format(LSVC.score(X_train_tfidf, Y_train)))\n",
    "print('Accuracy of SVM classifier on test set: {:.2f}\\n'\n",
    "     .format(LSVC.score(count_vect.transform(X_test), Y_test)))\n",
    "\n",
    "pred = LSVC.predict(count_vect.transform(X_test))\n",
    "print(classification_report(Y_test, pred, target_names=['0','Value','Variable']))\n",
    "\n",
    "print(\"==================================================================\")\n",
    "\n",
    "\n",
    "logreg = LogisticRegression()\n",
    "logreg.fit(X_train_tfidf, Y_train)\n",
    "\n",
    "print('Accuracy of Log Reg classifier on training set: {:.2f}'\n",
    "     .format(logreg.score(X_train_tfidf, Y_train)))\n",
    "print('Accuracy of Log Reg classifier on test set: {:.2f}\\n'\n",
    "     .format(logreg.score(count_vect.transform(X_test), Y_test)))\n",
    "\n",
    "pred = logreg.predict(count_vect.transform(X_test))\n",
    "print(classification_report(Y_test, pred, target_names=['0','Value','Variable']))\n",
    "\n",
    "print(\"==================================================================\")\n",
    "\n",
    "rForest = RandomForestClassifier(n_estimators=200, max_depth=3, random_state=0)\n",
    "rForest.fit(X_train_tfidf, Y_train)\n",
    "\n",
    "print('Accuracy of Random Forest classifier on training set: {:.2f}'\n",
    "     .format(rForest.score(X_train_tfidf, Y_train)))\n",
    "print('Accuracy of Random Forest classifier on test set: {:.2f}'\n",
    "     .format(rForest.score(count_vect.transform(X_test), Y_test)))\n",
    "\n",
    "pred = rForest.predict(count_vect.transform(X_test))\n",
    "print(classification_report(Y_test, pred, target_names=['0','Value','Variable']))\n",
    "\n",
    "print(\"==================================================================\")"
   ]
  },
  {
   "cell_type": "code",
   "execution_count": null,
   "metadata": {
    "collapsed": true
   },
   "outputs": [],
   "source": []
  }
 ],
 "metadata": {
  "anaconda-cloud": {},
  "kernelspec": {
   "display_name": "Python 2",
   "language": "python",
   "name": "python2"
  },
  "language_info": {
   "codemirror_mode": {
    "name": "ipython",
    "version": 2
   },
   "file_extension": ".py",
   "mimetype": "text/x-python",
   "name": "python",
   "nbconvert_exporter": "python",
   "pygments_lexer": "ipython2",
   "version": "2.7.10"
  }
 },
 "nbformat": 4,
 "nbformat_minor": 2
}
